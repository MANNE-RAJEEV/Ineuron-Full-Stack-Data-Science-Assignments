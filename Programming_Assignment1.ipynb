{
  "nbformat": 4,
  "nbformat_minor": 0,
  "metadata": {
    "colab": {
      "provenance": []
    },
    "kernelspec": {
      "name": "python3",
      "display_name": "Python 3"
    },
    "language_info": {
      "name": "python"
    }
  },
  "cells": [
    {
      "cell_type": "code",
      "execution_count": 11,
      "metadata": {
        "colab": {
          "base_uri": "https://localhost:8080/"
        },
        "id": "QPbOWkFnJ_vW",
        "outputId": "521c2dd9-7581-4a44-cd51-d98246675542"
      },
      "outputs": [
        {
          "output_type": "stream",
          "name": "stdout",
          "text": [
            "Hello python\n"
          ]
        }
      ],
      "source": [
        "#Write a Python program to print \"Hello Python\"?\n",
        "\n",
        "print(\"Hello python\")"
      ]
    },
    {
      "cell_type": "code",
      "source": [
        "#Write a Python program to do arithmetical operations addition and division.\n",
        "a=20\n",
        "b=11\n",
        "c=a+b\n",
        "d=a/b\n",
        "print(c,d)"
      ],
      "metadata": {
        "colab": {
          "base_uri": "https://localhost:8080/"
        },
        "id": "n8zF31CJKkB7",
        "outputId": "a823d99c-9761-493d-ddff-0129fbc449b6"
      },
      "execution_count": 12,
      "outputs": [
        {
          "output_type": "stream",
          "name": "stdout",
          "text": [
            "31 1.8181818181818181\n"
          ]
        }
      ]
    },
    {
      "cell_type": "code",
      "source": [
        "#Write a Python program to find the area of a triangle\n",
        "base = 10\n",
        "height = 12\n",
        "area = 1/2*base*height\n",
        "print(area)"
      ],
      "metadata": {
        "colab": {
          "base_uri": "https://localhost:8080/"
        },
        "id": "vbYKd_3JLGbN",
        "outputId": "0d8e6839-5cf3-4c65-bf45-5d76a5e61cd3"
      },
      "execution_count": 13,
      "outputs": [
        {
          "output_type": "stream",
          "name": "stdout",
          "text": [
            "60.0\n"
          ]
        }
      ]
    },
    {
      "cell_type": "code",
      "source": [
        "#Write a Python program to swap two variables\n",
        "a=20\n",
        "b=11\n",
        "a=a+b\n",
        "b=a-b\n",
        "a=a-b\n",
        "print(a,b)"
      ],
      "metadata": {
        "colab": {
          "base_uri": "https://localhost:8080/"
        },
        "id": "_A9_mNCZNWi1",
        "outputId": "69811ce8-bd79-4a5a-8da3-cc84a346210e"
      },
      "execution_count": 14,
      "outputs": [
        {
          "output_type": "stream",
          "name": "stdout",
          "text": [
            "11 20\n"
          ]
        }
      ]
    },
    {
      "cell_type": "code",
      "source": [
        "#Write a Python program to generate a random number\n",
        "from random import randint\n",
        "n = randint(0,100)\n",
        "print(n)"
      ],
      "metadata": {
        "colab": {
          "base_uri": "https://localhost:8080/"
        },
        "id": "Rk-2mIFJOP6h",
        "outputId": "11261e5f-91fc-4627-89f7-a8a6e66209b9"
      },
      "execution_count": 15,
      "outputs": [
        {
          "output_type": "stream",
          "name": "stdout",
          "text": [
            "60\n"
          ]
        }
      ]
    }
  ]
}